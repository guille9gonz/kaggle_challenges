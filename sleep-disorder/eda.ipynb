{
 "cells": [
  {
   "cell_type": "markdown",
   "id": "d9e22fc8",
   "metadata": {},
   "source": [
    "### Exploratory Data Analysis (EDA)"
   ]
  },
  {
   "cell_type": "code",
   "execution_count": 51,
   "id": "0f9521e0",
   "metadata": {},
   "outputs": [],
   "source": [
    "import kagglehub\n",
    "import os\n",
    "import pandas as pd\n",
    "import matplotlib.pyplot as plt"
   ]
  },
  {
   "cell_type": "code",
   "execution_count": null,
   "id": "9d0f45cf",
   "metadata": {},
   "outputs": [
    {
     "name": "stdout",
     "output_type": "stream",
     "text": [
      "Path to dataset files: /home/guille/.cache/kagglehub/datasets/mdsultanulislamovi/sleep-disorder-diagnosis-dataset/versions/1\n",
      "Files in path: ['Sleep_health_and_lifestyle_dataset.csv']\n"
     ]
    }
   ],
   "source": [
    "# Descargar última versión\n",
    "path = kagglehub.dataset_download(\"mdsultanulislamovi/sleep-disorder-diagnosis-dataset\")\n",
    "print(\"Path to dataset files:\", path)\n",
    "print(\"Files in path:\", os.listdir(path))"
   ]
  },
  {
   "cell_type": "code",
   "execution_count": 4,
   "id": "125bd741",
   "metadata": {},
   "outputs": [
    {
     "data": {
      "text/html": [
       "<div>\n",
       "<style scoped>\n",
       "    .dataframe tbody tr th:only-of-type {\n",
       "        vertical-align: middle;\n",
       "    }\n",
       "\n",
       "    .dataframe tbody tr th {\n",
       "        vertical-align: top;\n",
       "    }\n",
       "\n",
       "    .dataframe thead th {\n",
       "        text-align: right;\n",
       "    }\n",
       "</style>\n",
       "<table border=\"1\" class=\"dataframe\">\n",
       "  <thead>\n",
       "    <tr style=\"text-align: right;\">\n",
       "      <th></th>\n",
       "      <th>Person ID</th>\n",
       "      <th>Gender</th>\n",
       "      <th>Age</th>\n",
       "      <th>Occupation</th>\n",
       "      <th>Sleep Duration</th>\n",
       "      <th>Quality of Sleep</th>\n",
       "      <th>Physical Activity Level</th>\n",
       "      <th>Stress Level</th>\n",
       "      <th>BMI Category</th>\n",
       "      <th>Blood Pressure</th>\n",
       "      <th>Heart Rate</th>\n",
       "      <th>Daily Steps</th>\n",
       "      <th>Sleep Disorder</th>\n",
       "    </tr>\n",
       "  </thead>\n",
       "  <tbody>\n",
       "    <tr>\n",
       "      <th>0</th>\n",
       "      <td>1</td>\n",
       "      <td>Male</td>\n",
       "      <td>27</td>\n",
       "      <td>Software Engineer</td>\n",
       "      <td>6.1</td>\n",
       "      <td>6</td>\n",
       "      <td>42</td>\n",
       "      <td>6</td>\n",
       "      <td>Overweight</td>\n",
       "      <td>126/83</td>\n",
       "      <td>77</td>\n",
       "      <td>4200</td>\n",
       "      <td>NaN</td>\n",
       "    </tr>\n",
       "    <tr>\n",
       "      <th>1</th>\n",
       "      <td>2</td>\n",
       "      <td>Male</td>\n",
       "      <td>28</td>\n",
       "      <td>Doctor</td>\n",
       "      <td>6.2</td>\n",
       "      <td>6</td>\n",
       "      <td>60</td>\n",
       "      <td>8</td>\n",
       "      <td>Normal</td>\n",
       "      <td>125/80</td>\n",
       "      <td>75</td>\n",
       "      <td>10000</td>\n",
       "      <td>NaN</td>\n",
       "    </tr>\n",
       "    <tr>\n",
       "      <th>2</th>\n",
       "      <td>3</td>\n",
       "      <td>Male</td>\n",
       "      <td>28</td>\n",
       "      <td>Doctor</td>\n",
       "      <td>6.2</td>\n",
       "      <td>6</td>\n",
       "      <td>60</td>\n",
       "      <td>8</td>\n",
       "      <td>Normal</td>\n",
       "      <td>125/80</td>\n",
       "      <td>75</td>\n",
       "      <td>10000</td>\n",
       "      <td>NaN</td>\n",
       "    </tr>\n",
       "    <tr>\n",
       "      <th>3</th>\n",
       "      <td>4</td>\n",
       "      <td>Male</td>\n",
       "      <td>28</td>\n",
       "      <td>Sales Representative</td>\n",
       "      <td>5.9</td>\n",
       "      <td>4</td>\n",
       "      <td>30</td>\n",
       "      <td>8</td>\n",
       "      <td>Obese</td>\n",
       "      <td>140/90</td>\n",
       "      <td>85</td>\n",
       "      <td>3000</td>\n",
       "      <td>Sleep Apnea</td>\n",
       "    </tr>\n",
       "    <tr>\n",
       "      <th>4</th>\n",
       "      <td>5</td>\n",
       "      <td>Male</td>\n",
       "      <td>28</td>\n",
       "      <td>Sales Representative</td>\n",
       "      <td>5.9</td>\n",
       "      <td>4</td>\n",
       "      <td>30</td>\n",
       "      <td>8</td>\n",
       "      <td>Obese</td>\n",
       "      <td>140/90</td>\n",
       "      <td>85</td>\n",
       "      <td>3000</td>\n",
       "      <td>Sleep Apnea</td>\n",
       "    </tr>\n",
       "  </tbody>\n",
       "</table>\n",
       "</div>"
      ],
      "text/plain": [
       "   Person ID Gender  Age            Occupation  Sleep Duration  \\\n",
       "0          1   Male   27     Software Engineer             6.1   \n",
       "1          2   Male   28                Doctor             6.2   \n",
       "2          3   Male   28                Doctor             6.2   \n",
       "3          4   Male   28  Sales Representative             5.9   \n",
       "4          5   Male   28  Sales Representative             5.9   \n",
       "\n",
       "   Quality of Sleep  Physical Activity Level  Stress Level BMI Category  \\\n",
       "0                 6                       42             6   Overweight   \n",
       "1                 6                       60             8       Normal   \n",
       "2                 6                       60             8       Normal   \n",
       "3                 4                       30             8        Obese   \n",
       "4                 4                       30             8        Obese   \n",
       "\n",
       "  Blood Pressure  Heart Rate  Daily Steps Sleep Disorder  \n",
       "0         126/83          77         4200            NaN  \n",
       "1         125/80          75        10000            NaN  \n",
       "2         125/80          75        10000            NaN  \n",
       "3         140/90          85         3000    Sleep Apnea  \n",
       "4         140/90          85         3000    Sleep Apnea  "
      ]
     },
     "execution_count": 4,
     "metadata": {},
     "output_type": "execute_result"
    }
   ],
   "source": [
    "# Read and show dataset\n",
    "file_path = os.path.join(path, \"Sleep_health_and_lifestyle_dataset.csv\")\n",
    "df = pd.read_csv(file_path)\n",
    "df.head()"
   ]
  },
  {
   "cell_type": "markdown",
   "id": "3badb597",
   "metadata": {},
   "source": [
    "#### Información general"
   ]
  },
  {
   "cell_type": "code",
   "execution_count": 5,
   "id": "c82c342f",
   "metadata": {},
   "outputs": [
    {
     "name": "stdout",
     "output_type": "stream",
     "text": [
      "<class 'pandas.core.frame.DataFrame'>\n",
      "RangeIndex: 374 entries, 0 to 373\n",
      "Data columns (total 13 columns):\n",
      " #   Column                   Non-Null Count  Dtype  \n",
      "---  ------                   --------------  -----  \n",
      " 0   Person ID                374 non-null    int64  \n",
      " 1   Gender                   374 non-null    object \n",
      " 2   Age                      374 non-null    int64  \n",
      " 3   Occupation               374 non-null    object \n",
      " 4   Sleep Duration           374 non-null    float64\n",
      " 5   Quality of Sleep         374 non-null    int64  \n",
      " 6   Physical Activity Level  374 non-null    int64  \n",
      " 7   Stress Level             374 non-null    int64  \n",
      " 8   BMI Category             374 non-null    object \n",
      " 9   Blood Pressure           374 non-null    object \n",
      " 10  Heart Rate               374 non-null    int64  \n",
      " 11  Daily Steps              374 non-null    int64  \n",
      " 12  Sleep Disorder           155 non-null    object \n",
      "dtypes: float64(1), int64(7), object(5)\n",
      "memory usage: 38.1+ KB\n"
     ]
    }
   ],
   "source": [
    "df.shape # Dimensiones (374, 13)\n",
    "df.info()"
   ]
  },
  {
   "cell_type": "code",
   "execution_count": null,
   "id": "cae4cb13",
   "metadata": {},
   "outputs": [
    {
     "data": {
      "text/plain": [
       "np.int64(0)"
      ]
     },
     "execution_count": 7,
     "metadata": {},
     "output_type": "execute_result"
    }
   ],
   "source": [
    "df.duplicated().sum() # No hay duplicados"
   ]
  },
  {
   "cell_type": "markdown",
   "id": "2ffa4a65",
   "metadata": {},
   "source": [
    "#### Revisión por columnas"
   ]
  },
  {
   "cell_type": "code",
   "execution_count": 21,
   "id": "b58c8a7b",
   "metadata": {},
   "outputs": [],
   "source": [
    "def show_object_col(col: str):\n",
    "    print(f\"\\n{col.upper()}\")\n",
    "    print(f\"Valores posibles: {len(df[col].unique())}\")\n",
    "    print(f\"Distribución:\\n{df[col].value_counts()}\")\n",
    "\n",
    "def show_int_col(col: str):\n",
    "    print(f\"\\n{col.upper()}\")\n",
    "    print(f\"Mínimo/a: {df[col].min()} // Máximo/a: {df[col].max()}\")\n",
    "    print(f\"Media: {df[col].mean()}\\nMediana: {df[col].median()}\\nModa: {df[col].mode()[0]}\\nDesviación: {df[col].std()}\")"
   ]
  },
  {
   "cell_type": "markdown",
   "id": "0730a4cb",
   "metadata": {},
   "source": [
    "##### Numéricas"
   ]
  },
  {
   "cell_type": "code",
   "execution_count": 22,
   "id": "bc44c301",
   "metadata": {},
   "outputs": [
    {
     "name": "stdout",
     "output_type": "stream",
     "text": [
      "\n",
      "AGE\n",
      "Mínimo/a: 27 // Máximo/a: 59\n",
      "Media: 42.18449197860963\n",
      "Mediana: 43.0\n",
      "Moda: 43\n",
      "Desviación: 8.673133465547243\n",
      "\n",
      "SLEEP DURATION\n",
      "Mínimo/a: 5.8 // Máximo/a: 8.5\n",
      "Media: 7.132085561497325\n",
      "Mediana: 7.2\n",
      "Moda: 7.2\n",
      "Desviación: 0.7956567308898189\n",
      "\n",
      "QUALITY OF SLEEP\n",
      "Mínimo/a: 4 // Máximo/a: 9\n",
      "Media: 7.31283422459893\n",
      "Mediana: 7.0\n",
      "Moda: 8\n",
      "Desviación: 1.196955919733606\n",
      "\n",
      "PHYSICAL ACTIVITY LEVEL\n",
      "Mínimo/a: 30 // Máximo/a: 90\n",
      "Media: 59.17112299465241\n",
      "Mediana: 60.0\n",
      "Moda: 60\n",
      "Desviación: 20.83080365807167\n",
      "\n",
      "STRESS LEVEL\n",
      "Mínimo/a: 3 // Máximo/a: 8\n",
      "Media: 5.385026737967914\n",
      "Mediana: 5.0\n",
      "Moda: 3\n",
      "Desviación: 1.774526444198519\n",
      "\n",
      "HEART RATE\n",
      "Mínimo/a: 65 // Máximo/a: 86\n",
      "Media: 70.16577540106952\n",
      "Mediana: 70.0\n",
      "Moda: 68\n",
      "Desviación: 4.135675535112215\n",
      "\n",
      "DAILY STEPS\n",
      "Mínimo/a: 3000 // Máximo/a: 10000\n",
      "Media: 6816.844919786096\n",
      "Mediana: 7000.0\n",
      "Moda: 8000\n",
      "Desviación: 1617.915679133636\n"
     ]
    }
   ],
   "source": [
    "num_cols = [\"Age\", \"Sleep Duration\", \"Quality of Sleep\", \"Physical Activity Level\", \"Stress Level\", \"Heart Rate\", \"Daily Steps\"]\n",
    "for col in num_cols:\n",
    "    show_int_col(col)\n"
   ]
  },
  {
   "cell_type": "markdown",
   "id": "ce4ee152",
   "metadata": {},
   "source": [
    "##### Categóricas"
   ]
  },
  {
   "cell_type": "code",
   "execution_count": 24,
   "id": "81c2e2d0",
   "metadata": {},
   "outputs": [
    {
     "name": "stdout",
     "output_type": "stream",
     "text": [
      "\n",
      "GENDER\n",
      "Valores posibles: 2\n",
      "Distribución:\n",
      "Gender\n",
      "Male      189\n",
      "Female    185\n",
      "Name: count, dtype: int64\n",
      "\n",
      "OCCUPATION\n",
      "Valores posibles: 11\n",
      "Distribución:\n",
      "Occupation\n",
      "Nurse                   73\n",
      "Doctor                  71\n",
      "Engineer                63\n",
      "Lawyer                  47\n",
      "Teacher                 40\n",
      "Accountant              37\n",
      "Salesperson             32\n",
      "Scientist                4\n",
      "Software Engineer        4\n",
      "Sales Representative     2\n",
      "Manager                  1\n",
      "Name: count, dtype: int64\n",
      "\n",
      "BMI CATEGORY\n",
      "Valores posibles: 4\n",
      "Distribución:\n",
      "BMI Category\n",
      "Normal           195\n",
      "Overweight       148\n",
      "Normal Weight     21\n",
      "Obese             10\n",
      "Name: count, dtype: int64\n",
      "\n",
      "BLOOD PRESSURE\n",
      "Valores posibles: 25\n",
      "Distribución:\n",
      "Blood Pressure\n",
      "130/85    99\n",
      "140/95    65\n",
      "125/80    65\n",
      "120/80    45\n",
      "115/75    32\n",
      "135/90    27\n",
      "140/90     4\n",
      "125/82     4\n",
      "128/85     3\n",
      "132/87     3\n",
      "117/76     2\n",
      "130/86     2\n",
      "126/83     2\n",
      "119/77     2\n",
      "135/88     2\n",
      "128/84     2\n",
      "131/86     2\n",
      "139/91     2\n",
      "115/78     2\n",
      "129/84     2\n",
      "142/92     2\n",
      "118/75     2\n",
      "118/76     1\n",
      "122/80     1\n",
      "121/79     1\n",
      "Name: count, dtype: int64\n"
     ]
    }
   ],
   "source": [
    "cat_cols = [\"Gender\", \"Occupation\", \"BMI Category\", \"Blood Pressure\"]\n",
    "for col in cat_cols:\n",
    "    show_object_col(col)"
   ]
  },
  {
   "cell_type": "markdown",
   "id": "1b446c95",
   "metadata": {},
   "source": [
    "##### Target"
   ]
  },
  {
   "cell_type": "code",
   "execution_count": 26,
   "id": "a0443a10",
   "metadata": {},
   "outputs": [
    {
     "name": "stdout",
     "output_type": "stream",
     "text": [
      "Valores posibles: 374\n",
      "Distribución:\n",
      "Sleep Disorder\n",
      "Sleep Apnea    78\n",
      "Insomnia       77\n",
      "Name: count, dtype: int64\n",
      "None (Nan): 219\n"
     ]
    }
   ],
   "source": [
    "target = \"Sleep Disorder\"\n",
    "print(f\"Valores posibles: {len(df[target])}\")\n",
    "print(f\"Distribución:\\n{df[target].value_counts()}\")\n",
    "print(f\"None (Nan): {df[target].isna().sum()}\")"
   ]
  },
  {
   "cell_type": "code",
   "execution_count": 61,
   "id": "d1d29df5",
   "metadata": {},
   "outputs": [
    {
     "data": {
      "text/html": [
       "<div>\n",
       "<style scoped>\n",
       "    .dataframe tbody tr th:only-of-type {\n",
       "        vertical-align: middle;\n",
       "    }\n",
       "\n",
       "    .dataframe tbody tr th {\n",
       "        vertical-align: top;\n",
       "    }\n",
       "\n",
       "    .dataframe thead th {\n",
       "        text-align: right;\n",
       "    }\n",
       "</style>\n",
       "<table border=\"1\" class=\"dataframe\">\n",
       "  <thead>\n",
       "    <tr style=\"text-align: right;\">\n",
       "      <th></th>\n",
       "      <th>Age</th>\n",
       "      <th>Sleep Duration</th>\n",
       "      <th>Quality of Sleep</th>\n",
       "      <th>Physical Activity Level</th>\n",
       "      <th>Stress Level</th>\n",
       "      <th>Heart Rate</th>\n",
       "      <th>Daily Steps</th>\n",
       "    </tr>\n",
       "  </thead>\n",
       "  <tbody>\n",
       "    <tr>\n",
       "      <th>Age</th>\n",
       "      <td>1.000000</td>\n",
       "      <td>0.344709</td>\n",
       "      <td>0.473734</td>\n",
       "      <td>0.178993</td>\n",
       "      <td>-0.422344</td>\n",
       "      <td>-0.225606</td>\n",
       "      <td>0.057973</td>\n",
       "    </tr>\n",
       "    <tr>\n",
       "      <th>Sleep Duration</th>\n",
       "      <td>0.344709</td>\n",
       "      <td>1.000000</td>\n",
       "      <td>0.883213</td>\n",
       "      <td>0.212360</td>\n",
       "      <td>-0.811023</td>\n",
       "      <td>-0.516455</td>\n",
       "      <td>-0.039533</td>\n",
       "    </tr>\n",
       "    <tr>\n",
       "      <th>Quality of Sleep</th>\n",
       "      <td>0.473734</td>\n",
       "      <td>0.883213</td>\n",
       "      <td>1.000000</td>\n",
       "      <td>0.192896</td>\n",
       "      <td>-0.898752</td>\n",
       "      <td>-0.659865</td>\n",
       "      <td>0.016791</td>\n",
       "    </tr>\n",
       "    <tr>\n",
       "      <th>Physical Activity Level</th>\n",
       "      <td>0.178993</td>\n",
       "      <td>0.212360</td>\n",
       "      <td>0.192896</td>\n",
       "      <td>1.000000</td>\n",
       "      <td>-0.034134</td>\n",
       "      <td>0.136971</td>\n",
       "      <td>0.772723</td>\n",
       "    </tr>\n",
       "    <tr>\n",
       "      <th>Stress Level</th>\n",
       "      <td>-0.422344</td>\n",
       "      <td>-0.811023</td>\n",
       "      <td>-0.898752</td>\n",
       "      <td>-0.034134</td>\n",
       "      <td>1.000000</td>\n",
       "      <td>0.670026</td>\n",
       "      <td>0.186829</td>\n",
       "    </tr>\n",
       "    <tr>\n",
       "      <th>Heart Rate</th>\n",
       "      <td>-0.225606</td>\n",
       "      <td>-0.516455</td>\n",
       "      <td>-0.659865</td>\n",
       "      <td>0.136971</td>\n",
       "      <td>0.670026</td>\n",
       "      <td>1.000000</td>\n",
       "      <td>-0.030309</td>\n",
       "    </tr>\n",
       "    <tr>\n",
       "      <th>Daily Steps</th>\n",
       "      <td>0.057973</td>\n",
       "      <td>-0.039533</td>\n",
       "      <td>0.016791</td>\n",
       "      <td>0.772723</td>\n",
       "      <td>0.186829</td>\n",
       "      <td>-0.030309</td>\n",
       "      <td>1.000000</td>\n",
       "    </tr>\n",
       "  </tbody>\n",
       "</table>\n",
       "</div>"
      ],
      "text/plain": [
       "                              Age  Sleep Duration  Quality of Sleep  \\\n",
       "Age                      1.000000        0.344709          0.473734   \n",
       "Sleep Duration           0.344709        1.000000          0.883213   \n",
       "Quality of Sleep         0.473734        0.883213          1.000000   \n",
       "Physical Activity Level  0.178993        0.212360          0.192896   \n",
       "Stress Level            -0.422344       -0.811023         -0.898752   \n",
       "Heart Rate              -0.225606       -0.516455         -0.659865   \n",
       "Daily Steps              0.057973       -0.039533          0.016791   \n",
       "\n",
       "                         Physical Activity Level  Stress Level  Heart Rate  \\\n",
       "Age                                     0.178993     -0.422344   -0.225606   \n",
       "Sleep Duration                          0.212360     -0.811023   -0.516455   \n",
       "Quality of Sleep                        0.192896     -0.898752   -0.659865   \n",
       "Physical Activity Level                 1.000000     -0.034134    0.136971   \n",
       "Stress Level                           -0.034134      1.000000    0.670026   \n",
       "Heart Rate                              0.136971      0.670026    1.000000   \n",
       "Daily Steps                             0.772723      0.186829   -0.030309   \n",
       "\n",
       "                         Daily Steps  \n",
       "Age                         0.057973  \n",
       "Sleep Duration             -0.039533  \n",
       "Quality of Sleep            0.016791  \n",
       "Physical Activity Level     0.772723  \n",
       "Stress Level                0.186829  \n",
       "Heart Rate                 -0.030309  \n",
       "Daily Steps                 1.000000  "
      ]
     },
     "execution_count": 61,
     "metadata": {},
     "output_type": "execute_result"
    }
   ],
   "source": [
    "df[num_cols].corr()"
   ]
  },
  {
   "cell_type": "code",
   "execution_count": 58,
   "id": "3c673a76",
   "metadata": {},
   "outputs": [
    {
     "data": {
      "text/plain": [
       "<BarContainer object of 4 artists>"
      ]
     },
     "execution_count": 58,
     "metadata": {},
     "output_type": "execute_result"
    },
    {
     "data": {
      "image/png": "[encoded data removed]",
      "text/plain": [
       "<Figure size 640x480 with 1 Axes>"
      ]
     },
     "metadata": {},
     "output_type": "display_data"
    }
   ],
   "source": [
    "plt.bar(df[\"BMI Category\"].value_counts().index, df[\"BMI Category\"].value_counts().values)"
   ]
  },
  {
   "cell_type": "markdown",
   "id": "0a1ce778",
   "metadata": {},
   "source": [
    "### Resumen del dataset\n",
    " - Tiene 374 filas y 13 columnas\n",
    "    * 7 numéricas\n",
    "    * 4 categóricas\n",
    "    * 1 target\n",
    "    * 1 de ID\n",
    " - No hay ningún nulo en los features ni duplicados\n",
    " - El target (_Sleep Disorder_) puede ser: None (Nan), Insomnia o Sleep Apnea\n",
    " - La mayoría de personas no tiene ningún trastorno del sueño\n",
    " - Los features son bastante equilibrados, no hay sobrerrepresentación"
   ]
  }
 ],
 "metadata": {
  "kernelspec": {
   "display_name": ".venv_sleep (3.12.3)",
   "language": "python",
   "name": "python3"
  },
  "language_info": {
   "codemirror_mode": {
    "name": "ipython",
    "version": 3
   },
   "file_extension": ".py",
   "mimetype": "text/x-python",
   "name": "python",
   "nbconvert_exporter": "python",
   "pygments_lexer": "ipython3",
   "version": "3.12.3"
  }
 },
 "nbformat": 4,
 "nbformat_minor": 5
}
